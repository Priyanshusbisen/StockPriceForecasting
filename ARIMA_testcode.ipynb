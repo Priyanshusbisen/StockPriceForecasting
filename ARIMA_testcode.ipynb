{
 "cells": [
  {
   "cell_type": "code",
   "execution_count": null,
   "metadata": {},
   "outputs": [],
   "source": [
    "import pandas as pd\n",
    "from statsmodels.tsa.arima.model import ARIMA\n",
    "from sklearn.preprocessing import MinMaxScaler\n",
    "from keras.models import Sequential\n",
    "from keras.layers import LSTM, Dense\n",
    "import numpy as np\n",
    "import matplotlib.pyplot as plt\n",
    "import pickle\n",
    "import pmdarima as pm"
   ]
  },
  {
   "cell_type": "code",
   "execution_count": null,
   "metadata": {},
   "outputs": [],
   "source": [
    "train_data = pd.read_csv('train_data.csv')"
   ]
  },
  {
   "cell_type": "code",
   "execution_count": null,
   "metadata": {},
   "outputs": [],
   "source": [
    "test_data = pd.read_csv('test_data.csv')"
   ]
  },
  {
   "cell_type": "code",
   "execution_count": null,
   "metadata": {},
   "outputs": [],
   "source": [
    "#Training\n",
    "for i in train_data['stock_id'].unique():\n",
    "    stockdata = train_data[train_data['stock_id']==i]\n",
    "    arima_model = pm.auto_arima(stockdata['target'],seasonal=True,suppress_warnings=True)\n",
    "    with open(f'arima_model_{i}', 'wb') as file:\n",
    "        pickle.dump(arima_model, file)"
   ]
  },
  {
   "cell_type": "code",
   "execution_count": null,
   "metadata": {},
   "outputs": [],
   "source": [
    "#testing Pipeline\n",
    "true_target = []\n",
    "predictions = []\n",
    "test_df = test_data[test_data['seconds_in_bucket']<=480]\n",
    "test_true_df = test_data[test_data['seconds_in_bucket']>480]\n",
    "for i in test_df['stock_id'].unique():\n",
    "    stock_data = test_df[test_df['stock_id']==i]\n",
    "    stock_data_pred = test_true_df[test_true_df['stock_id']==i]\n",
    "\n",
    "    # Now, you can load the ARIMA model from the file\n",
    "    with open(f'arima_model_{i}', 'rb') as file:\n",
    "        arima_model = pickle.load(file)\n",
    "    for j in stock_data['date_id'].unique():\n",
    "        daydata = stock_data[stock_data['date_id']==j]\n",
    "        day_last_data = stock_data_pred[stock_data_pred['date_id']==j]['target']\n",
    "        arima_model.update(daydata['target'])\n",
    "        preds = arima_model.predict(6)\n",
    "        \n",
    "        for i in range(len(preds)):\n",
    "            predictions.append(preds[i])\n",
    "            true_target.append(day_last_data.values[i])\n",
    "\n",
    "    \n",
    "\n",
    "\n",
    "        "
   ]
  },
  {
   "cell_type": "code",
   "execution_count": null,
   "metadata": {},
   "outputs": [],
   "source": [
    "#Absolute Error\n",
    "absolute_error = np.abs(np.array(predictions[5::6]) - np.array(true_target[5::6]))\n",
    "#Mean Absolute Error\n",
    "mae = np.mean(absolute_error)"
   ]
  }
 ],
 "metadata": {
  "kernelspec": {
   "display_name": "Python 3 (ipykernel)",
   "language": "python",
   "name": "python3"
  },
  "language_info": {
   "codemirror_mode": {
    "name": "ipython",
    "version": 3
   },
   "file_extension": ".py",
   "mimetype": "text/x-python",
   "name": "python",
   "nbconvert_exporter": "python",
   "pygments_lexer": "ipython3",
   "version": "3.11.4"
  }
 },
 "nbformat": 4,
 "nbformat_minor": 2
}
